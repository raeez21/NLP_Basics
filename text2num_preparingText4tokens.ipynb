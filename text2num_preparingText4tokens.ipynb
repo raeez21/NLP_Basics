{
 "cells": [
  {
   "cell_type": "code",
   "execution_count": 1,
   "id": "bec16f9e-fa6b-4920-9e4b-cdc846caf38b",
   "metadata": {},
   "outputs": [],
   "source": [
    "import numpy as np\n",
    "import requests\n",
    "import re\n"
   ]
  },
  {
   "cell_type": "code",
   "execution_count": 2,
   "id": "407f6419-8073-4d5f-baac-b55bdf67697c",
   "metadata": {},
   "outputs": [],
   "source": [
    "#We fetch a plain text version of an online book and prepare and tokenize the entire book"
   ]
  },
  {
   "cell_type": "markdown",
   "id": "5fbf15c1-4a4d-4c7e-ac4c-c2c1374bb150",
   "metadata": {},
   "source": [
    "## Get text from web"
   ]
  },
  {
   "cell_type": "code",
   "execution_count": 5,
   "id": "936c34e2-b2f6-40e2-b9bf-a387983a83af",
   "metadata": {},
   "outputs": [
    {
     "name": "stdout",
     "output_type": "stream",
     "text": [
      "<class 'str'>\n",
      "182973\n"
     ]
    },
    {
     "data": {
      "text/plain": [
       "'*** START OF THE PROJECT GUTENBERG EBOOK 35 ***\\r\\n\\r\\n\\r\\n\\r\\n\\r\\nThe Time Machine\\r\\n\\r\\nAn Invention\\r\\n\\r\\nby H. G. Wells\\r\\n\\r\\n\\r\\nCONTENTS\\r\\n\\r\\n I Introduction\\r\\n II The Machine\\r\\n III The Time Traveller Returns\\r\\n IV Time Travelling\\r\\n V In the Golden Age\\r\\n VI The Sunset of Mankind\\r\\n VII A Sudden Shock\\r\\n VIII Explanation\\r\\n IX The Morlocks\\r\\n X When Night Came\\r\\n XI The Palace of Green Porcelain\\r\\n XII In the Darkness\\r\\n XIII The Trap of the White Sphinx\\r\\n XIV The Further Vision\\r\\n XV The Time Traveller’s Return\\r\\n XVI After the Story\\r\\n Epilogue\\r\\n\\r\\n\\r\\n\\r\\n\\r\\n I.\\r\\n Introduction\\r\\n\\r\\n\\r\\nThe Time Traveller (for so it will be convenient to speak of him) was\\r\\nexpounding a recondite matter to us. His pale grey eyes shone and\\r\\ntwinkled, and his usually pale face was flushed and animated. The fire\\r\\nburnt brightly, and the soft radiance of the incandescent lights in the\\r\\nlilies of silver caught the bubbles that flashed and passed in our\\r\\nglasses. Our chairs, being his patents, embraced and caressed us rather\\r\\nthan submitted to be sat upon, and there was that luxurious\\r\\nafter-dinner atmosphere, when thought runs gracefully free of the\\r\\ntrammels of precision. And he put it to us in this way—marking the\\r\\npoints with a lean forefinger—as we sat and lazily admired his\\r\\nearnestness over this new paradox (as we thought it) and his fecundity.\\r\\n\\r\\n“You must follow me carefully. I shall have to controvert one or two\\r\\nideas that are almost universally accepted. The geometry, for instance,\\r\\nthey taught you at school is founded on a misconception.”\\r\\n\\r\\n“Is not that rather a large thing to expect us to begin upon?” said\\r\\nFilby, an argumentative person with red hair.\\r\\n\\r\\n“I do not mean to ask you to accept anything without reasonable ground\\r\\nfor it. You will soon admit as much as I need from you. You know of\\r\\ncourse that a mathematical line, a line of thickness _nil_, has no real\\r\\nexistence. They taught you that? Neither has a mathematical plane.\\r\\nThese things are mere abstractions.”\\r\\n\\r\\n“That is all right,” said the Psychologis'"
      ]
     },
     "execution_count": 5,
     "metadata": {},
     "output_type": "execute_result"
    }
   ],
   "source": [
    "# get raw text(book) from internet\n",
    "book = requests.get('https://www.gutenberg.org/files/35/35-0.txt')\n",
    "\n",
    "#extratc just the text and have a look\n",
    "text = book.text\n",
    "print(type(text))\n",
    "print(len(text))\n",
    "\n",
    "text[:2000]"
   ]
  },
  {
   "cell_type": "code",
   "execution_count": 6,
   "id": "34638b0f-1d84-4a34-ae2a-88974e566fa5",
   "metadata": {},
   "outputs": [
    {
     "data": {
      "text/plain": [
       "'*** start of the project gutenberg ebook  ***.....the time machine..an invention..by h. g. wells...contents.. i introduction. ii the machine. iii the time traveller returns. iv time travelling. v in the golden age. vi the sunset of mankind. vii a sudden shock. viii explanation. ix the morlocks. x when night came. xi the palace of green porcelain. xii in the darkness. xiii the trap of the white sphinx. xiv the further vision. xv the time traveller s return. xvi after the story. epilogue..... i.. introduction...the time traveller (for so it will be convenient to speak of him) was.expounding a recondite matter to us. his pale grey eyes shone and.twinkled, and his usually pale face was flushed and animated. the fire.burnt brightly, and the soft radiance of the incandescent lights in the.lilies of silver caught the bubbles that flashed and passed in our.glasses. our chairs, being his patents, embraced and caressed us rather.than submitted to be sat upon, and there was that luxurious.after-dinner atmosphere, when thought runs gracefully free of the.trammels of precision. and he put it to us in this way marking the.points with a lean forefinger as we sat and lazily admired his.earnestness over this new paradox (as we thought it) and his fecundity... you must follow me carefully. i shall have to controvert one or two.ideas that are almost universally accepted. the geometry, for instance,.they taught you at school is founded on a misconception. .. is not that rather a large thing to expect us to begin upon?  said.filby, an argumentative person with red hair... i do not mean to ask you to accept anything without reasonable ground.for it. you will soon admit as much as i need from you. you know of.course that a mathematical line, a line of thickness .nil., has no real.existence. they taught you that? neither has a mathematical plane..these things are mere abstractions. .. that is all right,  said the psychologist... nor, having only length, breadth, and thickness, can a cube h'"
      ]
     },
     "execution_count": 6,
     "metadata": {},
     "output_type": "execute_result"
    }
   ],
   "source": [
    "# remove unwated chara\n",
    "# char to replace with space\n",
    "\n",
    "strings2replace = [\n",
    "                    '\\r\\n\\r\\nâ\\x80\\x9c',\n",
    "                    'â\\x80\\x9c',\n",
    "                    'â\\x80\\x9d',\n",
    "                    '\\r\\n',\n",
    "                    'â\\x80\\x94',\n",
    "                    'â\\x80\\x99',\n",
    "                    'â\\x80\\x98',\n",
    "                    '_',]\n",
    "\n",
    "for str2match in strings2replace:\n",
    "    regexp = re.compile(r'%s'%str2match)\n",
    "    text = regexp.sub('.',text)\n",
    "\n",
    "# remove non-ascii char\n",
    "text = re.sub(r'[^\\x00-\\x7F]+',' ',text)\n",
    "\n",
    "#remove numbers\n",
    "text = re.sub('\\d+','',text)\n",
    "\n",
    "#and make everything lower case\n",
    "text =text.lower()\n",
    "\n",
    "text[:2000]"
   ]
  },
  {
   "cell_type": "markdown",
   "id": "d207cc11-6117-4c45-a47b-968aba9e51bf",
   "metadata": {},
   "source": [
    "## Parse text into words"
   ]
  },
  {
   "cell_type": "code",
   "execution_count": 8,
   "id": "91a34d87-e172-450a-8923-a9e459a17a68",
   "metadata": {},
   "outputs": [
    {
     "name": "stdout",
     "output_type": "stream",
     "text": [
      "!\"#$%&'()*+,-./:;<=>?@[\\]^_`{|}~\n"
     ]
    },
    {
     "data": {
      "text/plain": [
       "['start',\n",
       " 'of',\n",
       " 'the',\n",
       " 'project',\n",
       " 'gutenberg',\n",
       " 'ebook',\n",
       " 'the',\n",
       " 'time',\n",
       " 'machine',\n",
       " 'an',\n",
       " 'invention',\n",
       " 'by',\n",
       " 'wells',\n",
       " 'contents',\n",
       " 'introduction',\n",
       " 'ii',\n",
       " 'the',\n",
       " 'machine',\n",
       " 'iii',\n",
       " 'the',\n",
       " 'time',\n",
       " 'traveller',\n",
       " 'returns',\n",
       " 'iv',\n",
       " 'time',\n",
       " 'travelling',\n",
       " 'in',\n",
       " 'the',\n",
       " 'golden',\n",
       " 'age',\n",
       " 'vi',\n",
       " 'the',\n",
       " 'sunset',\n",
       " 'of',\n",
       " 'mankind',\n",
       " 'vii',\n",
       " 'sudden',\n",
       " 'shock',\n",
       " 'viii',\n",
       " 'explanation',\n",
       " 'ix',\n",
       " 'the',\n",
       " 'morlocks',\n",
       " 'when',\n",
       " 'night',\n",
       " 'came',\n",
       " 'xi',\n",
       " 'the',\n",
       " 'palace',\n",
       " 'of']"
      ]
     },
     "execution_count": 8,
     "metadata": {},
     "output_type": "execute_result"
    }
   ],
   "source": [
    "# split by punctuation\n",
    "import string\n",
    "print(string.punctuation)\n",
    "puncts4re = f'[{string.punctuation}\\s]+'\n",
    "\n",
    "words = re.split(puncts4re,text)\n",
    "words = [item.strip() for item in words if item.strip()] #remove spaces in words\n",
    "\n",
    "# remove single chara words\n",
    "words = [item for item in words if len(item)>1]\n",
    "\n",
    "words[:50]"
   ]
  },
  {
   "cell_type": "code",
   "execution_count": 9,
   "id": "223b2b03-e6ba-4fe8-893e-b9a8ceaa6b8f",
   "metadata": {},
   "outputs": [
    {
     "name": "stdout",
     "output_type": "stream",
     "text": [
      "30698 words\n",
      "4589 unique words\n"
     ]
    }
   ],
   "source": [
    "# create te vocab\n",
    "vocab = sorted(set(words))\n",
    "\n",
    "# convenience variables for later\n",
    "nWords = len(words)\n",
    "nLex = len(vocab)\n",
    "\n",
    "print(f'{nWords} words')\n",
    "print(f'{nLex} unique words')"
   ]
  },
  {
   "cell_type": "markdown",
   "id": "0e0f0209-4f2c-4217-a5ad-7fbbeaa6fcf9",
   "metadata": {},
   "source": [
    "## Create token dict and encoder/decoder func\n"
   ]
  },
  {
   "cell_type": "code",
   "execution_count": 10,
   "id": "4fb2be93-99a3-49cb-9e09-68ff03bb3be9",
   "metadata": {},
   "outputs": [
    {
     "name": "stdout",
     "output_type": "stream",
     "text": [
      "('abandon', 0)\n",
      "('aimlessly', 87)\n",
      "('apologise', 174)\n",
      "('attained', 261)\n",
      "('behaved', 348)\n",
      "('both', 435)\n",
      "('can', 522)\n",
      "('cheerfully', 609)\n",
      "('coat', 696)\n",
      "('contents', 783)\n",
      "('culminating', 870)\n",
      "('delay', 957)\n",
      "('dimness', 1044)\n",
      "('dragging', 1131)\n",
      "('edition', 1218)\n",
      "('everywhere', 1305)\n",
      "('facilities', 1392)\n",
      "('find', 1479)\n",
      "('footfall', 1566)\n",
      "('furnishing', 1653)\n",
      "('gold', 1740)\n",
      "('hallo', 1827)\n",
      "('high', 1914)\n",
      "('ideas', 2001)\n",
      "('inextinguishable', 2088)\n",
      "('invest', 2175)\n",
      "('lamp', 2262)\n",
      "('likewise', 2349)\n",
      "('manhood', 2436)\n",
      "('minerals', 2523)\n",
      "('mysteries', 2610)\n",
      "('novelty', 2697)\n",
      "('outbreaks', 2784)\n",
      "('paws', 2871)\n",
      "('plato', 2958)\n",
      "('previously', 3045)\n",
      "('questionings', 3132)\n",
      "('reflecting', 3219)\n",
      "('return', 3306)\n",
      "('sandals', 3393)\n",
      "('senses', 3480)\n",
      "('shrinking', 3567)\n",
      "('slit', 3654)\n",
      "('special', 3741)\n",
      "('stick', 3828)\n",
      "('sudden', 3915)\n",
      "('tap', 4002)\n",
      "('thrice', 4089)\n",
      "('treat', 4176)\n",
      "('unfrozen', 4263)\n",
      "('vertical', 4350)\n",
      "('wearisome', 4437)\n",
      "('wonderful', 4524)\n"
     ]
    }
   ],
   "source": [
    "word2idx = {w:i for i,w in enumerate(vocab)}\n",
    "idx2word = {i:w for i,w in enumerate(vocab)}\n",
    "\n",
    "for i in list(word2idx.items())[0:10000:87]:\n",
    "    print(i)"
   ]
  },
  {
   "cell_type": "code",
   "execution_count": 12,
   "id": "8ba26153-4817-41a6-b2e7-0f5a87fd6f0b",
   "metadata": {},
   "outputs": [],
   "source": [
    "def encoder(words, encode_dict):\n",
    "    # init a vector of numerical indices\n",
    "    idxs = np.zeros(len(words), dtype=int)\n",
    "\n",
    "    # loop through words and find their token in vocab\n",
    "    for i,w in enumerate(words):\n",
    "        idxs[i] = encode_dict[w]\n",
    "\n",
    "    return idxs\n",
    "\n",
    "def decoder(idxs,decode_dict):\n",
    "    return ' '.join([decode_dict[i] for i in idxs])\n",
    "    "
   ]
  },
  {
   "cell_type": "code",
   "execution_count": 15,
   "id": "ee8640ba-55df-4317-a168-52e3ec5647e7",
   "metadata": {},
   "outputs": [
    {
     "name": "stdout",
     "output_type": "stream",
     "text": [
      "[4042 4109 2416]\n",
      "the time machine\n"
     ]
    }
   ],
   "source": [
    "print(encoder(['the','time','machine'], word2idx))\n",
    "\n",
    "print(decoder([4042, 4109, 2416],idx2word))"
   ]
  },
  {
   "cell_type": "code",
   "execution_count": null,
   "id": "888330d9-143f-4aea-a691-ecaee3cf33a4",
   "metadata": {},
   "outputs": [],
   "source": []
  }
 ],
 "metadata": {
  "kernelspec": {
   "display_name": "Python (jupyter-env)",
   "language": "python",
   "name": "jupyter-env"
  },
  "language_info": {
   "codemirror_mode": {
    "name": "ipython",
    "version": 3
   },
   "file_extension": ".py",
   "mimetype": "text/x-python",
   "name": "python",
   "nbconvert_exporter": "python",
   "pygments_lexer": "ipython3",
   "version": "3.10.0"
  }
 },
 "nbformat": 4,
 "nbformat_minor": 5
}
